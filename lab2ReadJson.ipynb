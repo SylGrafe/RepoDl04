{
  "nbformat": 4,
  "nbformat_minor": 0,
  "metadata": {
    "colab": {
      "name": "lab2ReadJson",
      "version": "0.3.2",
      "provenance": [],
      "collapsed_sections": [],
      "include_colab_link": true
    },
    "kernelspec": {
      "name": "python3",
      "display_name": "Python 3"
    }
  },
  "cells": [
    {
      "cell_type": "markdown",
      "metadata": {
        "id": "view-in-github",
        "colab_type": "text"
      },
      "source": [
        "<a href=\"https://colab.research.google.com/github/SylGrafe/RepoDl04/blob/master/lab2ReadJson.ipynb\" target=\"_parent\"><img src=\"https://colab.research.google.com/assets/colab-badge.svg\" alt=\"Open In Colab\"/></a>"
      ]
    },
    {
      "metadata": {
        "id": "KoZFQpHQgAjf",
        "colab_type": "text"
      },
      "cell_type": "markdown",
      "source": [
        "lab2ReadJson\n",
        "\n",
        "\n",
        "---\n",
        "\n",
        "\n",
        "\n",
        "**See lab2Sygr0003.pdf  for instructions and comments**\n"
      ]
    },
    {
      "metadata": {
        "id": "ovlmzwD7f55B",
        "colab_type": "code",
        "outputId": "b2d2741b-f69b-4ee4-b3f7-1c84eb8ec88e",
        "colab": {
          "base_uri": "https://localhost:8080/",
          "height": 833
        }
      },
      "cell_type": "code",
      "source": [
        "\n",
        "import numpy as np\n",
        "import matplotlib.pyplot as plt\n",
        "import sys\n",
        "import datetime\n",
        "import os\n",
        "import pickle\n",
        "\n",
        "\n",
        "runInColab=True\n",
        "if (runInColab):\n",
        "  # do not forget to clone the git repo\n",
        "  get_ipython().system('git clone https://github.com/SylGrafe/RepoDl04.git')\n",
        "  sys.path.insert(0, \"RepoDl04\")\n",
        "\n",
        "  \n",
        "  \n",
        "  theDumpFileName = \"RepoDl04/results.json\"\n",
        "\n",
        "else: \n",
        "  # for  test on localhost with python pgm   , the user may send the name of the file as first  arg\n",
        "  # notice that colab  send arguments to the notebook so it is not possible to send\n",
        "  # use the first argument send to the pgm as theDumpFilename\n",
        "\n",
        "  sys.path.insert(0, \"/home/syl1/bin/python/deepL/lab2/lib\")\n",
        "  if ( len(sys.argv ) < 2 ):\n",
        "    theDumpFileName = \"../repo/results.json\"\n",
        "  else: \n",
        "    theDumpFileName = sys.argv[1]\n",
        "    # by default use results.json on local host also\n",
        "    if (not os.path.isfile(theDumpFileName)):\n",
        "      theDumpFileName = \"../repo/results.json\"\n",
        "  \n",
        "#theDumpFileName=\"so_tired\"\n",
        "\n",
        "import lab2JsonUtils\n",
        "CAndR = lab2JsonUtils.ConfigAndResults\n",
        "startTime= datetime.datetime.now()\n",
        "\n",
        "\n",
        "\"\"\"\n",
        "for ever ask an indice to the user and present the results to the user\n",
        "read model results from disk and present them to the user\n",
        "\"\"\"\n",
        "\n",
        "if (not os.path.isfile(theDumpFileName)):\n",
        "  print (\"fatal error %s is not a file \" % (theDumpFileName))\n",
        "  sys.exit (1)\n",
        "else:\n",
        "  print (\"\\n\\n using dump file %s\" % (theDumpFileName))\n",
        "\n",
        "\n",
        "\n",
        "while (True):\n",
        "  lab2JsonUtils.doProceedUserInput (theDumpFileName)\n",
        "\n",
        "print (\"\\n\")\n",
        "\n",
        "\n",
        "\n",
        "#  how much time does this take ?\n",
        "stopTime = datetime.datetime.now()\n",
        "duration = stopTime - startTime\n",
        "seconds = duration.total_seconds()\n",
        "hours = seconds // 3600\n",
        "minutes = (seconds % 3600) // 60\n",
        "seconds = seconds % 60\n",
        "\n",
        "#print ( \"start : \" , startTime.strftime(\"%a, %d %B %Y %H:%M:%S\"))\n",
        "#print ( \"stop at: \" , stopTime.strftime(\"%a, %d %B %Y %H:%M:%S\"))\n",
        "print ( \"duration: h:%d mn:%d sec:%d \" % (hours , minutes , seconds))\n",
        "\n",
        "\n"
      ],
      "execution_count": 1,
      "outputs": [
        {
          "output_type": "stream",
          "text": [
            "Cloning into 'RepoDl04'...\n",
            "remote: Enumerating objects: 89, done.\u001b[K\n",
            "remote: Counting objects: 100% (89/89), done.\u001b[K\n",
            "remote: Compressing objects: 100% (72/72), done.\u001b[K\n",
            "remote: Total 89 (delta 33), reused 65 (delta 17), pack-reused 0\u001b[K\n",
            "Unpacking objects: 100% (89/89), done.\n",
            "\n",
            "\n",
            "\n",
            "\n",
            " using dump file RepoDl04/results.json\n",
            "\n",
            "indStr [moreStr] >  0 p\n",
            "63_m0_colab, D32 D1, rmsprop lr=0.001, mae, 1004_0826 \n",
            "GPU or CPU inputBatchSize 128\n",
            "test Results 0.2919  \n",
            "best val loss : at epochs  3 /5  value 0.3062\n",
            "\n",
            "history Params: {'batch_size': None, 'epochs': 5, 'steps': 500, 'samples': 500, 'verbose': 1, 'do_validation': True, 'metrics': ['loss', 'val_loss']} \n"
          ],
          "name": "stdout"
        },
        {
          "output_type": "display_data",
          "data": {
            "image/png": "[encoded data removed]",
            "text/plain": [
              "<Figure size 432x288 with 1 Axes>"
            ]
          },
          "metadata": {
            "tags": []
          }
        },
        {
          "output_type": "stream",
          "text": [
            "\n",
            "indStr [moreStr] >  Bye , You hit control-C \n"
          ],
          "name": "stdout"
        },
        {
          "output_type": "error",
          "ename": "SystemExit",
          "evalue": "ignored",
          "traceback": [
            "An exception has occurred, use %tb to see the full traceback.\n",
            "\u001b[0;31mSystemExit\u001b[0m\u001b[0;31m:\u001b[0m 0\n"
          ]
        },
        {
          "output_type": "stream",
          "text": [
            "/usr/local/lib/python3.6/dist-packages/IPython/core/interactiveshell.py:2890: UserWarning: To exit: use 'exit', 'quit', or Ctrl-D.\n",
            "  warn(\"To exit: use 'exit', 'quit', or Ctrl-D.\", stacklevel=1)\n"
          ],
          "name": "stderr"
        },
        {
          "output_type": "display_data",
          "data": {
            "text/plain": [
              "<Figure size 432x288 with 0 Axes>"
            ]
          },
          "metadata": {
            "tags": []
          }
        }
      ]
    },
    {
      "metadata": {
        "id": "F091l8D4ih6o",
        "colab_type": "code",
        "outputId": "da8b1de4-8ca0-4206-b2ec-4cacaa5748b7",
        "colab": {
          "base_uri": "https://localhost:8080/",
          "height": 51
        }
      },
      "cell_type": "code",
      "source": [
        "ls RepoDl04/\n"
      ],
      "execution_count": 0,
      "outputs": [
        {
          "output_type": "stream",
          "text": [
            "ggdd_1204_1153.h5           lab2JsonUtils.py   lab2U00.py    results.json\n",
            "jena_climate_2009_2016.csv  lab2MakeModels.py  \u001b[0m\u001b[01;34m__pycache__\u001b[0m/\n"
          ],
          "name": "stdout"
        }
      ]
    },
    {
      "metadata": {
        "id": "fys7Ffs_f-FQ",
        "colab_type": "text"
      },
      "cell_type": "markdown",
      "source": [
        "end notebook"
      ]
    }
  ]
}