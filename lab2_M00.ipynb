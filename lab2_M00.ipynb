{
  "nbformat": 4,
  "nbformat_minor": 0,
  "metadata": {
    "colab": {
      "name": "lab2_M00.ipynb",
      "version": "0.3.2",
      "provenance": [],
      "collapsed_sections": [],
      "include_colab_link": true
    },
    "kernelspec": {
      "name": "python3",
      "display_name": "Python 3"
    },
    "accelerator": "GPU"
  },
  "cells": [
    {
      "cell_type": "markdown",
      "metadata": {
        "id": "view-in-github",
        "colab_type": "text"
      },
      "source": [
        "<a href=\"https://colab.research.google.com/github/SylGrafe/RepoDl04/blob/master/lab2_M00.ipynb\" target=\"_parent\"><img src=\"https://colab.research.google.com/assets/colab-badge.svg\" alt=\"Open In Colab\"/></a>"
      ]
    },
    {
      "cell_type": "markdown",
      "metadata": {
        "id": "9CYnjQcbgoDf",
        "colab_type": "raw"
      },
      "source": [
        "lab2_M00 \n",
        "reference pgm from\n",
        "6.3-advanced-usage-of-recurrent-neural-networks\n",
        "\n",
        "See lab2Sygr0003.pdf for instructions and comments\n"
      ]
    },
    {
      "cell_type": "code",
      "metadata": {
        "id": "RevFp1vogoDh",
        "colab_type": "code",
        "outputId": "ae265da4-c1f6-442a-a2fd-0d349d09487e",
        "colab": {
          "base_uri": "https://localhost:8080/",
          "height": 711
        }
      },
      "source": [
        "#!/usr/bin/env python\n",
        "# coding: utf-8\n",
        "# from 6.3-advanced-usage-of-recurrent-neural-networks.py\n",
        "#  study data  + simply fully-connected model  and baseline\n",
        "import keras\n",
        "keras.__version__\n",
        "import os\n",
        "\n",
        "\"\"\"\n",
        "weather forecasting problem, where we have access to a timeseries of data \n",
        "points coming from sensors   installed on the roof of a building, such as\n",
        "temperature, air pressure, and humidity, which we use to predict what the \n",
        "temperature will be   24 hours after the last data point collected. \n",
        "\n",
        "Here is a simply fully-connected model in which we start by flattening the \n",
        "data, then run it through two `Dense` layers. Note the lack of \n",
        "# activation function on the last `Dense` layer, which is typical for a \n",
        "regression problem. We use MAE as the loss. Since we are evaluating \n",
        " on the exact same data and with the exact same metric as with our common \n",
        "sense approach, the results will be directly comparable.\n",
        "\"\"\"\n",
        "\n",
        "doRunLocal = False\n",
        "if doRunLocal:\n",
        "  data_dir = '/home/syl1/doNotBackup/RepoDl04' \n",
        "else:\n",
        "  !git clone https://github.com/SylGrafe/RepoDl04.git\n",
        "  data_dir = 'RepoDl04'\n",
        "\n",
        "fname = os.path.join(data_dir, 'jena_climate_2009_2016.csv')\n",
        "\n",
        "f = open(fname)\n",
        "data = f.read()\n",
        "f.close()\n",
        "\n",
        "lines = data.split('\\n')\n",
        "header = lines[0].split(',')\n",
        "lines = lines[1:]\n",
        "\n",
        "print(header)\n",
        "print(len(lines))\n",
        "\n",
        "\n",
        "# Let's convert all of these 420,551 lines of data into a Numpy array:\n",
        "import numpy as np\n",
        "\n",
        "float_data = np.zeros((len(lines), len(header) - 1))\n",
        "for i, line in enumerate(lines):\n",
        "    values = [float(x) for x in line.split(',')[1:]]\n",
        "    float_data[i, :] = values\n",
        "\n",
        "\n",
        "# For instance, here is the plot of temperature (in degrees Celsius) over time:\n",
        "\n",
        "from matplotlib import pyplot as plt\n",
        "\n",
        "temp = float_data[:, 1]  # temperature (in degrees Celsius)\n",
        "plt.plot(range(len(temp)), temp)\n",
        "plt.show()\n",
        "\n",
        "\"\"\"\n",
        "On this plot, you can clearly see the yearly periodicity of temperature.\n",
        "Here is a more narrow plot of the first ten days of temperature data\n",
        "(since the data is recorded every ten minutes, we get 144 data points \n",
        "per day):\n",
        "\"\"\"\n",
        "plt.plot(range(1440), temp[:1440])\n",
        "plt.show()\n",
        "\n",
        "\n",
        "\"\"\"\n",
        "On this plot, you can see daily periodicity, especially evident for the \n",
        "last 4 days. We can also note that this ten-days period must be \n",
        "coming from a fairly cold winter month.\n",
        "\n",
        " \n",
        "If we were trying to predict average temperature for the next month given a \n",
        "few month of past data, the problem would be easy, due to the \n",
        "reliable year-scale periodicity of the data. But looking at the data over a \n",
        "scale of days, the temperature looks a lot more chaotic. So is \n",
        "this timeseries predictable at a daily scale? Let's find out.\n",
        "\n",
        "\n",
        "Preparing the data\n",
        "\n",
        "The exact formulation of our problem will be the following: given data going \n",
        "as far back as `lookback` timesteps (a timestep is 10 minutes) \n",
        "and sampled every `steps` timesteps, can we predict the temperature in\n",
        "`delay` timesteps?\n",
        "\n",
        "We will use the following parameter values:\n",
        "# \n",
        "# * `lookback = 720`, i.e. our observations will go back 5 days.\n",
        "# * `steps = 6`, i.e. our observations will be sampled at one data point per hour.\n",
        "# * `delay = 144`, i.e. our targets will be 24 hours in the future.\n",
        "# \n",
        "# To get started, we need to do two things:\n",
        "# \n",
        "# * Preprocess the data to a format a neural network can ingest. This is easy: \n",
        "the data is already numerical, so we don't need to do any \n",
        "# vectorization. However each timeseries in the data is on a different scale \n",
        "(e.g. temperature is typically between -20 and +30, but \n",
        "# pressure, measured in mbar, is around 1000). So we will normalize each \n",
        "timeseries independently so that they all take small values on a \n",
        "# similar scale.\n",
        "# * Write a Python generator that takes our current array of float data and \n",
        "yields batches of data from the recent past, alongside with a \n",
        "# target temperature in the future. Since the samples in our dataset are highly\n",
        "redundant (e.g. sample `N` and sample `N + 1` will have most \n",
        "# of their timesteps in common), it would be very wasteful to explicitly \n",
        "allocate every sample. Instead, we will generate the samples on the \n",
        "# fly using the original data.\n",
        "# \n",
        "# We preprocess the data by subtracting the mean of each timeseries and \n",
        "dividing by the standard deviation. We plan on using the first \n",
        "# 200,000 timesteps as training data, so we compute the mean and standard \n",
        "deviation only on this fraction of the data:\n",
        "\"\"\"\n",
        "\n",
        "mean = float_data[:200000].mean(axis=0)\n",
        "float_data -= mean\n",
        "std = float_data[:200000].std(axis=0)\n",
        "float_data /= std\n",
        "\n",
        "\n",
        "\"\"\" \n",
        "Now here is the data generator that we will use. It yields a tuple `(samples, \n",
        "targets)` where `samples` is one batch of input data and  `targets` is the corresponding array of target temperatures. It takes the \n",
        "following arguments:\n",
        " \n",
        "* `data`: The original array of floating point data, which we just \n",
        "normalized in the code snippet above.\n",
        "* `lookback`: How many timesteps back should our input data go.\n",
        "* `delay`: How many timesteps in the future should our target be.\n",
        "* `min_index` and `max_index`: Indices in the `data` array that delimit which t\n",
        "imesteps to draw from. This is useful for keeping a segment \n",
        "of the data for validation and another one for testing.\n",
        "* `shuffle`: Whether to shuffle our samples or draw them in chronological order.\n",
        "* `batch_size`: The number of samples per batch.\n",
        "* `step`: The period, in timesteps, at which we sample data. We will set it 6 \n",
        "in order to draw one data point every hour.\n",
        "\"\"\"\n",
        "\n",
        "# lookback // step == nb of valid samples to consider for learning\n",
        "def generator(data, lookback, delay, min_index, max_index,\n",
        "              shuffle=False, batch_size=128, step=6):\n",
        "    if max_index is None:\n",
        "        max_index = len(data) - delay - 1\n",
        "    i = min_index + lookback\n",
        "    while 1:\n",
        "        if shuffle:\n",
        "            rows = np.random.randint(\n",
        "                min_index + lookback, max_index, size=batch_size)\n",
        "        else:\n",
        "            if i + batch_size >= max_index:\n",
        "                i = min_index + lookback\n",
        "            rows = np.arange(i, min(i + batch_size, max_index))\n",
        "            i += len(rows)\n",
        "\n",
        "        samples = np.zeros((len(rows),\n",
        "                           lookback // step,\n",
        "                           data.shape[-1]))\n",
        "        targets = np.zeros((len(rows),))\n",
        "        for j, row in enumerate(rows):\n",
        "            indices = range(rows[j] - lookback, rows[j], step)\n",
        "            samples[j] = data[indices]\n",
        "            targets[j] = data[rows[j] + delay][1]\n",
        "        yield samples, targets\n",
        "\n",
        "\n",
        "\"\"\"\n",
        "# Now let's use our abstract generator function to instantiate three generators\n",
        ", one for training, one for validation and one for testing. \n",
        "# Each will look at different temporal segments of the original data: the\n",
        "training generator looks at the first 200,000 timesteps, the \n",
        "# validation generator looks at the following 100,000, and the test generator \n",
        "looks at the remainder.\n",
        "\"\"\"\n",
        "lookback = 1440\n",
        "step = 6\n",
        "delay = 144\n",
        "batch_size = 128\n",
        "\n",
        "train_gen = generator(float_data,\n",
        "                      lookback=lookback,\n",
        "                      delay=delay,\n",
        "                      min_index=0,\n",
        "                      max_index=200000,\n",
        "                      shuffle=True,\n",
        "                      step=step, \n",
        "                      batch_size=batch_size)\n",
        "val_gen = generator(float_data,\n",
        "                    lookback=lookback,\n",
        "                    delay=delay,\n",
        "                    min_index=200001,\n",
        "                    max_index=300000,\n",
        "                    step=step,\n",
        "                    batch_size=batch_size)\n",
        "test_gen = generator(float_data,\n",
        "                     lookback=lookback,\n",
        "                     delay=delay,\n",
        "                     min_index=300001,\n",
        "                     max_index=None,\n",
        "                     step=step,\n",
        "                     batch_size=batch_size)\n",
        "\n",
        "# This is how many steps to draw from `val_gen`\n",
        "# in order to see the whole validation set:\n",
        "val_steps = (300000 - 200001 - lookback) // batch_size\n",
        "\n",
        "# This is how many steps to draw from `test_gen`\n",
        "# in order to see the whole test set:\n",
        "test_steps = (len(float_data) - 300001 - lookback) // batch_size\n",
        "\n",
        "\"\"\"\n",
        "# ## A common sense, non-machine learning baseline\n",
        "# \n",
        "# \n",
        "Before we start leveraging black-box deep learning models to solve our \n",
        "temperature prediction problem, let's try out a simple common-sense \n",
        "approach. It will serve as a sanity check, and it will establish a baseline \n",
        "that we will have to beat in order to demonstrate the \n",
        "usefulness of more advanced machine learning models. \n",
        "Such common-sense baselines can be very useful when approaching a new problem \n",
        "for  which there is no known solution (yet). A classic example is that of\n",
        "unbalanced classification tasks, where some classes can be much more \n",
        "# common than others. If your dataset contains 90% of instances of class A and 10% of instances of class B, then a common sense approach to \n",
        "# the classification task would be to always predict \"A\" when presented with a new sample. Such a classifier would be 90% accurate overall, \n",
        "# and any learning-based approach should therefore beat this 90% score in order to demonstrate usefulness. Sometimes such elementary \n",
        "# baseline can prove surprisingly hard to beat.\n",
        "# \n",
        "# In our case, the temperature timeseries can safely be assumed to be continuous\n",
        "(the temperatures tomorrow are likely to be close to the \n",
        "# temperatures today) as well as periodical with a daily period. \n",
        "Thus a common sense approach would be to always predict that the temperature \n",
        "# 24 hours from now will be equal to the temperature right now.\n",
        "Let's evaluate this approach, using the Mean Absolute Error metric (MAE). \n",
        "# Mean Absolute Error is simply equal to:\n",
        "\"\"\"\n",
        "\n",
        "\n",
        "\n",
        "# Here's our evaluation loop:\n",
        "\n",
        "\n"
      ],
      "execution_count": 0,
      "outputs": [
        {
          "output_type": "stream",
          "text": [
            "Using TensorFlow backend.\n"
          ],
          "name": "stderr"
        },
        {
          "output_type": "stream",
          "text": [
            "Cloning into 'RepoDl04'...\n",
            "remote: Enumerating objects: 38, done.\u001b[K\n",
            "remote: Counting objects:   2% (1/38)   \u001b[K\rremote: Counting objects:   5% (2/38)   \u001b[K\rremote: Counting objects:   7% (3/38)   \u001b[K\rremote: Counting objects:  10% (4/38)   \u001b[K\rremote: Counting objects:  13% (5/38)   \u001b[K\rremote: Counting objects:  15% (6/38)   \u001b[K\rremote: Counting objects:  18% (7/38)   \u001b[K\rremote: Counting objects:  21% (8/38)   \u001b[K\rremote: Counting objects:  23% (9/38)   \u001b[K\rremote: Counting objects:  26% (10/38)   \u001b[K\rremote: Counting objects:  28% (11/38)   \u001b[K\rremote: Counting objects:  31% (12/38)   \u001b[K\rremote: Counting objects:  34% (13/38)   \u001b[K\rremote: Counting objects:  36% (14/38)   \u001b[K\rremote: Counting objects:  39% (15/38)   \u001b[K\rremote: Counting objects:  42% (16/38)   \u001b[K\rremote: Counting objects:  44% (17/38)   \u001b[K\rremote: Counting objects:  47% (18/38)   \u001b[K\rremote: Counting objects:  50% (19/38)   \u001b[K\rremote: Counting objects:  52% (20/38)   \u001b[K\rremote: Counting objects:  55% (21/38)   \u001b[K\rremote: Counting objects:  57% (22/38)   \u001b[K\rremote: Counting objects:  60% (23/38)   \u001b[K\rremote: Counting objects:  63% (24/38)   \u001b[K\rremote: Counting objects:  65% (25/38)   \u001b[K\rremote: Counting objects:  68% (26/38)   \u001b[K\rremote: Counting objects:  71% (27/38)   \u001b[K\rremote: Counting objects:  73% (28/38)   \u001b[K\rremote: Counting objects:  76% (29/38)   \u001b[K\rremote: Counting objects:  78% (30/38)   \u001b[K\rremote: Counting objects:  81% (31/38)   \u001b[K\rremote: Counting objects:  84% (32/38)   \u001b[K\rremote: Counting objects:  86% (33/38)   \u001b[K\rremote: Counting objects:  89% (34/38)   \u001b[K\rremote: Counting objects:  92% (35/38)   \u001b[K\rremote: Counting objects:  94% (36/38)   \u001b[K\rremote: Counting objects:  97% (37/38)   \u001b[K\rremote: Counting objects: 100% (38/38)   \u001b[K\rremote: Counting objects: 100% (38/38), done.\u001b[K\n",
            "remote: Compressing objects: 100% (28/28), done.\u001b[K\n",
            "remote: Total 38 (delta 19), reused 29 (delta 10), pack-reused 0\u001b[K\n",
            "Unpacking objects: 100% (38/38), done.\n",
            "['\"Date Time\"', '\"p (mbar)\"', '\"T (degC)\"', '\"Tpot (K)\"', '\"Tdew (degC)\"', '\"rh (%)\"', '\"VPmax (mbar)\"', '\"VPact (mbar)\"', '\"VPdef (mbar)\"', '\"sh (g/kg)\"', '\"H2OC (mmol/mol)\"', '\"rho (g/m**3)\"', '\"wv (m/s)\"', '\"max. wv (m/s)\"', '\"wd (deg)\"']\n",
            "420551\n"
          ],
          "name": "stdout"
        },
        {
          "output_type": "display_data",
          "data": {
            "image/png": "[encoded data removed]",
            "text/plain": [
              "<Figure size 432x288 with 1 Axes>"
            ]
          },
          "metadata": {
            "tags": []
          }
        },
        {
          "output_type": "display_data",
          "data": {
            "image/png": "[encoded data removed]",
            "text/plain": [
              "<Figure size 432x288 with 1 Axes>"
            ]
          },
          "metadata": {
            "tags": []
          }
        },
        {
          "output_type": "execute_result",
          "data": {
            "text/plain": [
              "'\\n# ## A common sense, non-machine learning baseline\\n# \\n# \\nBefore we start leveraging black-box deep learning models to solve our \\ntemperature prediction problem, let\\'s try out a simple common-sense \\napproach. It will serve as a sanity check, and it will establish a baseline \\nthat we will have to beat in order to demonstrate the \\nusefulness of more advanced machine learning models. \\nSuch common-sense baselines can be very useful when approaching a new problem \\nfor  which there is no known solution (yet). A classic example is that of\\nunbalanced classification tasks, where some classes can be much more \\n# common than others. If your dataset contains 90% of instances of class A and 10% of instances of class B, then a common sense approach to \\n# the classification task would be to always predict \"A\" when presented with a new sample. Such a classifier would be 90% accurate overall, \\n# and any learning-based approach should therefore beat this 90% score in order to demonstrate usefulness. Sometimes such elementary \\n# baseline can prove surprisingly hard to beat.\\n# \\n# In our case, the temperature timeseries can safely be assumed to be continuous\\n(the temperatures tomorrow are likely to be close to the \\n# temperatures today) as well as periodical with a daily period. \\nThus a common sense approach would be to always predict that the temperature \\n# 24 hours from now will be equal to the temperature right now.\\nLet\\'s evaluate this approach, using the Mean Absolute Error metric (MAE). \\n# Mean Absolute Error is simply equal to:\\n'"
            ]
          },
          "metadata": {
            "tags": []
          },
          "execution_count": 1
        }
      ]
    },
    {
      "cell_type": "code",
      "metadata": {
        "id": "5dOFMThjmPB7",
        "colab_type": "code",
        "outputId": "68f4818c-41f3-42e4-bf98-c1c6dd9f4596",
        "colab": {
          "base_uri": "https://localhost:8080/",
          "height": 34
        }
      },
      "source": [
        "\n",
        "\n",
        "def evaluate_naive_method():\n",
        "    batch_maes = []\n",
        "    for step in range(val_steps):\n",
        "        samples, targets = next(val_gen)\n",
        "        preds = samples[:, -1, 1]\n",
        "        mae = np.mean(np.abs(preds - targets))\n",
        "        batch_maes.append(mae)\n",
        "    print(np.mean(batch_maes))\n",
        "    \n",
        "evaluate_naive_method()\n",
        "\n",
        "\n",
        "\n"
      ],
      "execution_count": 0,
      "outputs": [
        {
          "output_type": "stream",
          "text": [
            "0.2897359729905486\n"
          ],
          "name": "stdout"
        }
      ]
    },
    {
      "cell_type": "code",
      "metadata": {
        "id": "HGoQ9nHK0qs7",
        "colab_type": "code",
        "outputId": "dc02f4d7-9b40-4a28-f92e-4ad59ea9fa14",
        "colab": {
          "base_uri": "https://localhost:8080/",
          "height": 156
        }
      },
      "source": [
        "print (\"float_data.shape\" , float_data.shape)\n",
        "# never forget to break out of a train_generator\n",
        "for data_batch, labels_batch in train_gen:\n",
        "    print('data batch shape:', data_batch.shape)\n",
        "    print('labels batch shape:', labels_batch.shape)\n",
        "    break\n",
        "\n",
        "ind=1 \n",
        "ind1=0\n",
        "print (\"one unit in one previousUnitsList\" , data_batch[ind][ind1])       \n",
        "print (\"target for one previousUnitsList\" , labels_batch[ind])    \n"
      ],
      "execution_count": 0,
      "outputs": [
        {
          "output_type": "stream",
          "text": [
            "float_data.shape (420551, 14)\n",
            "data batch shape: (128, 240, 14)\n",
            "labels batch shape: (128,)\n",
            "one unit in one previousUnitsList [-0.01254168 -0.48430945 -0.48097812 -0.29424943  0.5228538  -0.62203989\n",
            " -0.49235711 -0.56110001 -0.4933924  -0.49275134  0.43154161 -0.53427648\n",
            " -0.80213276  0.41198055]\n",
            "target for one previousUnitsList -2.256690315863314\n"
          ],
          "name": "stdout"
        }
      ]
    },
    {
      "cell_type": "code",
      "metadata": {
        "id": "20081fYdmQ2G",
        "colab_type": "code",
        "outputId": "acf98631-27c0-4234-8c72-d0256bfd755b",
        "colab": {
          "base_uri": "https://localhost:8080/",
          "height": 1083
        }
      },
      "source": [
        "\n",
        "\"\"\"\n",
        "# It yields a MAE of 0.29. Since our temperature data has been normalized to\n",
        "be centered on 0 and have a standard deviation of one, this \n",
        "# number is not immediately interpretable. It translates to an average absolute\n",
        "error of `0.29 * temperature_std` degrees Celsius, i.e. \n",
        "# 2.57˚C. That's a fairly large average absolute error -- now the game is to\n",
        "leverage\t\t our knowledge of deep learning to do better. \n",
        "\n",
        "# ## A basic machine learning approach\n",
        "# \n",
        "# In the same way that it is useful to establish a common sense baseline\n",
        "before trying machine learning approaches, it is useful to try \n",
        "# simple and cheap machine learning models (such as small densely-connected\n",
        "networks) before looking into complicated and computationally \n",
        "# expensive models such as RNNs. This is the best way to make sure that \n",
        "any further complexity we throw at the problem later on is legitimate \n",
        "# and delivers real benefits.\n",
        "# \n",
        "\"\"\"\n",
        "\n",
        "from keras.models import Sequential\n",
        "from keras import layers\n",
        "from keras.optimizers import RMSprop\n",
        "\n",
        "model = Sequential()\n",
        "model.add(layers.Flatten(input_shape=(lookback // step, float_data.shape[-1])))\n",
        "model.add(layers.Dense(32, activation='relu'))\n",
        "model.add(layers.Dense(1))\n",
        "\n",
        "model.compile(optimizer=RMSprop(), loss='mae')\n",
        "history = model.fit_generator(train_gen,\n",
        "                              steps_per_epoch=500,\n",
        "                              epochs=20,\n",
        "                              validation_data=val_gen,\n",
        "                              validation_steps=val_steps)\n",
        "\n",
        "\n",
        "import matplotlib.pyplot as plt\n",
        "\n",
        "loss = history.history['loss']\n",
        "val_loss = history.history['val_loss']\n",
        "\n",
        "epochs = range(len(loss))\n",
        "\n",
        "plt.figure()\n",
        "\n",
        "plt.plot(epochs, loss, 'bo', label='Training loss')\n",
        "plt.plot(epochs, val_loss, 'b', label='Validation loss')\n",
        "plt.title('Training and validation loss')\n",
        "plt.legend()\n",
        "\n",
        "plt.show()\n",
        "\n",
        "\n",
        "\n",
        "\n",
        "# \n",
        "# Some of our validation losses get close to the no-learning baseline, but not very reliably. This goes to show the merit of having had this baseline in the first place: it turns out not to be so easy to outperform. Our \n",
        "# common sense contains already a lot of valuable information that a machine learning model does not have access to.\n",
        "# \n",
        "# You may ask, if there exists a simple, well-performing model to go from the data to the targets (our common sense baseline), why doesn't \n",
        "# the model we are training find it and improve on it? Simply put: because this simple solution is not what our training setup is looking \n",
        "# for. The space of models in which we are searching for a solution, i.e. our hypothesis space, is the space of all possible 2-layer networks \n",
        "# with the configuration that we defined. These networks are already fairly complicated. When looking for a solution with a space of \n",
        "# complicated models, the simple well-performing baseline might be unlearnable, even if it's technically part of the hypothesis space. That \n",
        "# is a pretty significant limitation of machine learning in general: unless the learning algorithm is hard-coded to look for a specific kind \n",
        "# of simple model, parameter learning can sometimes fail to find a simple solution to a simple problem.\n",
        "\n",
        "\n",
        "\n",
        "\n",
        "\n"
      ],
      "execution_count": 0,
      "outputs": [
        {
          "output_type": "stream",
          "text": [
            "WARNING:tensorflow:From /usr/local/lib/python3.6/dist-packages/tensorflow/python/framework/op_def_library.py:263: colocate_with (from tensorflow.python.framework.ops) is deprecated and will be removed in a future version.\n",
            "Instructions for updating:\n",
            "Colocations handled automatically by placer.\n",
            "WARNING:tensorflow:From /usr/local/lib/python3.6/dist-packages/tensorflow/python/ops/math_ops.py:3066: to_int32 (from tensorflow.python.ops.math_ops) is deprecated and will be removed in a future version.\n",
            "Instructions for updating:\n",
            "Use tf.cast instead.\n",
            "Epoch 1/20\n",
            "500/500 [==============================] - 13s 26ms/step - loss: 1.2508 - val_loss: 0.6043\n",
            "Epoch 2/20\n",
            "500/500 [==============================] - 11s 22ms/step - loss: 0.4372 - val_loss: 0.3868\n",
            "Epoch 3/20\n",
            "500/500 [==============================] - 12s 24ms/step - loss: 0.2989 - val_loss: 0.3491\n",
            "Epoch 4/20\n",
            "500/500 [==============================] - 11s 21ms/step - loss: 0.2673 - val_loss: 0.2984\n",
            "Epoch 5/20\n",
            "500/500 [==============================] - 11s 21ms/step - loss: 0.2542 - val_loss: 0.3104\n",
            "Epoch 6/20\n",
            "500/500 [==============================] - 11s 21ms/step - loss: 0.2437 - val_loss: 0.3002\n",
            "Epoch 7/20\n",
            "500/500 [==============================] - 11s 21ms/step - loss: 0.2344 - val_loss: 0.3261\n",
            "Epoch 8/20\n",
            "500/500 [==============================] - 11s 21ms/step - loss: 0.2306 - val_loss: 0.3403\n",
            "Epoch 9/20\n",
            "500/500 [==============================] - 11s 21ms/step - loss: 0.2251 - val_loss: 0.3144\n",
            "Epoch 10/20\n",
            "500/500 [==============================] - 11s 22ms/step - loss: 0.2219 - val_loss: 0.3205\n",
            "Epoch 11/20\n",
            "500/500 [==============================] - 12s 23ms/step - loss: 0.2192 - val_loss: 0.3138\n",
            "Epoch 12/20\n",
            "500/500 [==============================] - 10s 21ms/step - loss: 0.2165 - val_loss: 0.3287\n",
            "Epoch 13/20\n",
            "500/500 [==============================] - 11s 21ms/step - loss: 0.2132 - val_loss: 0.3578\n",
            "Epoch 14/20\n",
            "500/500 [==============================] - 10s 21ms/step - loss: 0.2107 - val_loss: 0.3198\n",
            "Epoch 15/20\n",
            "500/500 [==============================] - 11s 21ms/step - loss: 0.2093 - val_loss: 0.3226\n",
            "Epoch 16/20\n",
            "500/500 [==============================] - 11s 23ms/step - loss: 0.2058 - val_loss: 0.3284\n",
            "Epoch 17/20\n",
            "500/500 [==============================] - 11s 21ms/step - loss: 0.2039 - val_loss: 0.3180\n",
            "Epoch 18/20\n",
            "500/500 [==============================] - 12s 23ms/step - loss: 0.2013 - val_loss: 0.3261\n",
            "Epoch 19/20\n",
            "500/500 [==============================] - 11s 21ms/step - loss: 0.2004 - val_loss: 0.3321\n",
            "Epoch 20/20\n",
            "500/500 [==============================] - 11s 21ms/step - loss: 0.1982 - val_loss: 0.3324\n"
          ],
          "name": "stdout"
        },
        {
          "output_type": "display_data",
          "data": {
            "image/png": "[encoded data removed]",
            "text/plain": [
              "<Figure size 432x288 with 1 Axes>"
            ]
          },
          "metadata": {
            "tags": []
          }
        }
      ]
    },
    {
      "cell_type": "markdown",
      "metadata": {
        "id": "lrHr-g0f9NPt",
        "colab_type": "text"
      },
      "source": [
        "end notebook"
      ]
    }
  ]
}